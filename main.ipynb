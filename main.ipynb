{
 "cells": [
  {
   "cell_type": "code",
   "execution_count": null,
   "metadata": {},
   "outputs": [],
   "source": [
    "import pandas\n",
    "import random\n",
    "from sklearn.metrics.pairwise import cosine_similarity\n",
    "\n",
    "books = pandas.read_csv('https://raw.githubusercontent.com/zygmuntz/goodbooks-10k/master/books.csv')\n",
    "ratings = pandas.read_csv('https://raw.githubusercontent.com/zygmuntz/goodbooks-10k/master/ratings.csv')\n",
    "data = pandas.merge(books, ratings, on=\"book_id\")"
   ]
  },
  {
   "cell_type": "code",
   "execution_count": null,
   "metadata": {},
   "outputs": [],
   "source": [
    "matrix = data.pivot_table(index=\"book_id\", columns=\"title\", values=\"rating\")\n",
    "matrix = matrix.fillna(2.5, axis=0)\n",
    "similarity = cosine_similarity(matrix.T)"
   ]
  },
  {
   "cell_type": "code",
   "execution_count": null,
   "metadata": {},
   "outputs": [],
   "source": [
    "def get_recommendations(title, similarity=similarity, books=books):\n",
    "    matched_books = books[books[\"title\"] == title]\n",
    "    index = matched_books.index[0]\n",
    "    book_scores = list(enumerate(similarity[index]))\n",
    "    sorted_scores = sorted(book_scores, key=lambda x: x[1], reverse=True)\n",
    "    top_scores = sorted_scores[1:11]\n",
    "    book_indices = []\n",
    "    for score in top_scores:\n",
    "        book_indices.append(score[0])\n",
    "    recommended_books = books[\"title\"].iloc[book_indices].tolist()\n",
    "    return recommended_books"
   ]
  },
  {
   "cell_type": "code",
   "execution_count": null,
   "metadata": {},
   "outputs": [],
   "source": [
    "def random_book_generator(books):\n",
    "    titles = books[\"title\"].tolist()\n",
    "    random_title = random.choice(titles)\n",
    "    return random_title"
   ]
  },
  {
   "cell_type": "code",
   "execution_count": null,
   "metadata": {},
   "outputs": [],
   "source": [
    "def main():\n",
    "    random_title = random_book_generator(books)\n",
    "    recommendations = get_recommendations(random_title)\n",
    "    print(\"Random book: \" + random_title)\n",
    "    print(\"10 books most similar to random book:\")\n",
    "    for recommendation in recommendations:\n",
    "        print(recommendation)\n",
    "main()"
   ]
  }
 ],
 "metadata": {
  "kernelspec": {
   "display_name": "Python 3",
   "language": "python",
   "name": "python3"
  },
  "language_info": {
   "codemirror_mode": {
    "name": "ipython",
    "version": 3
   },
   "file_extension": ".py",
   "mimetype": "text/x-python",
   "name": "python",
   "nbconvert_exporter": "python",
   "pygments_lexer": "ipython3",
   "version": "3.11.4"
  },
  "orig_nbformat": 4
 },
 "nbformat": 4,
 "nbformat_minor": 2
}
